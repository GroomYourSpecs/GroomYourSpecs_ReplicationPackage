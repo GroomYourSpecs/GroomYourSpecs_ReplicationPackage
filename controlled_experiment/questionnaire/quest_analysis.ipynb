{
 "cells": [
  {
   "cell_type": "markdown",
   "id": "dd2c8289-d429-4dc6-9b42-415fde68b22e",
   "metadata": {},
   "source": [
    "# Questionnaire Analysis\n",
    "\n",
    "16 Participants performed a mission specification using a top-down and bottom-up approach. Participants were equally divided into two groups:\n",
    "\n",
    "- Group 1 started with a top-down approach and then performed the bottom-up approach;\n",
    "- Group 2 started with the bottom-up and then performed the top-down approach.\n",
    "\n",
    "Our analysis consists of two test:\n",
    "\n",
    "- Wilcoxon Signed-Rank Test:\n",
    "    For each group, how do results differ based on performing the task with a bottom-up or top-down specification? We perform this analysis for each question seperately\n",
    "\n",
    "- Wilcoxon Rank-Sum Test:\n",
    "    Did the order of the approaches impact the test? We perform the rank-sum test on the score differences between groups to see if performing a top-down or bottom-up specification first impacted the results.\n",
    "\n",
    "\n",
    "*Results are significant for a p value < 0.05*"
   ]
  },
  {
   "cell_type": "code",
   "execution_count": 1,
   "id": "93bb05e8-983e-46c1-a4e4-e93a919d57b6",
   "metadata": {},
   "outputs": [
    {
     "name": "stderr",
     "output_type": "stream",
     "text": [
      "/home/v/.local/lib/python3.10/site-packages/matplotlib/projections/__init__.py:63: UserWarning: Unable to import Axes3D. This may be due to multiple versions of Matplotlib being installed (e.g. as a system package and as a pip package). As a result, the 3D projection is not available.\n",
      "  warnings.warn(\"Unable to import Axes3D. This may be due to multiple versions of \"\n"
     ]
    }
   ],
   "source": [
    "import pandas as pd\n",
    "import matplotlib.pyplot as plt\n",
    "import numpy as np\n",
    "import scipy.stats as stats\n",
    "import seaborn as sns"
   ]
  },
  {
   "cell_type": "code",
   "execution_count": 2,
   "id": "6635864f-6d44-4ea2-87af-8b247424a974",
   "metadata": {},
   "outputs": [
    {
     "data": {
      "text/html": [
       "<div>\n",
       "<style scoped>\n",
       "    .dataframe tbody tr th:only-of-type {\n",
       "        vertical-align: middle;\n",
       "    }\n",
       "\n",
       "    .dataframe tbody tr th {\n",
       "        vertical-align: top;\n",
       "    }\n",
       "\n",
       "    .dataframe thead th {\n",
       "        text-align: right;\n",
       "    }\n",
       "</style>\n",
       "<table border=\"1\" class=\"dataframe\">\n",
       "  <thead>\n",
       "    <tr style=\"text-align: right;\">\n",
       "      <th></th>\n",
       "      <th>ID2</th>\n",
       "      <th>Group</th>\n",
       "      <th>Q1</th>\n",
       "      <th>Q2</th>\n",
       "      <th>Q3</th>\n",
       "      <th>Q4</th>\n",
       "      <th>Q5</th>\n",
       "      <th>Q6</th>\n",
       "      <th>Q7</th>\n",
       "      <th>Q8</th>\n",
       "      <th>Specification</th>\n",
       "    </tr>\n",
       "  </thead>\n",
       "  <tbody>\n",
       "    <tr>\n",
       "      <th>0</th>\n",
       "      <td>G402</td>\n",
       "      <td>1</td>\n",
       "      <td>5</td>\n",
       "      <td>6</td>\n",
       "      <td>5</td>\n",
       "      <td>6</td>\n",
       "      <td>4</td>\n",
       "      <td>4</td>\n",
       "      <td>5</td>\n",
       "      <td>6</td>\n",
       "      <td>bottom-up</td>\n",
       "    </tr>\n",
       "    <tr>\n",
       "      <th>1</th>\n",
       "      <td>G404</td>\n",
       "      <td>1</td>\n",
       "      <td>6</td>\n",
       "      <td>6</td>\n",
       "      <td>6</td>\n",
       "      <td>6</td>\n",
       "      <td>5</td>\n",
       "      <td>7</td>\n",
       "      <td>5</td>\n",
       "      <td>7</td>\n",
       "      <td>bottom-up</td>\n",
       "    </tr>\n",
       "    <tr>\n",
       "      <th>2</th>\n",
       "      <td>G403</td>\n",
       "      <td>1</td>\n",
       "      <td>6</td>\n",
       "      <td>5</td>\n",
       "      <td>6</td>\n",
       "      <td>4</td>\n",
       "      <td>5</td>\n",
       "      <td>4</td>\n",
       "      <td>3</td>\n",
       "      <td>5</td>\n",
       "      <td>bottom-up</td>\n",
       "    </tr>\n",
       "    <tr>\n",
       "      <th>3</th>\n",
       "      <td>G203</td>\n",
       "      <td>1</td>\n",
       "      <td>4</td>\n",
       "      <td>4</td>\n",
       "      <td>4</td>\n",
       "      <td>5</td>\n",
       "      <td>3</td>\n",
       "      <td>2</td>\n",
       "      <td>4</td>\n",
       "      <td>4</td>\n",
       "      <td>bottom-up</td>\n",
       "    </tr>\n",
       "    <tr>\n",
       "      <th>4</th>\n",
       "      <td>G401</td>\n",
       "      <td>1</td>\n",
       "      <td>2</td>\n",
       "      <td>6</td>\n",
       "      <td>6</td>\n",
       "      <td>6</td>\n",
       "      <td>6</td>\n",
       "      <td>3</td>\n",
       "      <td>4</td>\n",
       "      <td>5</td>\n",
       "      <td>bottom-up</td>\n",
       "    </tr>\n",
       "    <tr>\n",
       "      <th>5</th>\n",
       "      <td>G201</td>\n",
       "      <td>1</td>\n",
       "      <td>3</td>\n",
       "      <td>2</td>\n",
       "      <td>6</td>\n",
       "      <td>4</td>\n",
       "      <td>2</td>\n",
       "      <td>4</td>\n",
       "      <td>4</td>\n",
       "      <td>7</td>\n",
       "      <td>bottom-up</td>\n",
       "    </tr>\n",
       "    <tr>\n",
       "      <th>6</th>\n",
       "      <td>G202</td>\n",
       "      <td>1</td>\n",
       "      <td>2</td>\n",
       "      <td>1</td>\n",
       "      <td>2</td>\n",
       "      <td>2</td>\n",
       "      <td>3</td>\n",
       "      <td>1</td>\n",
       "      <td>2</td>\n",
       "      <td>3</td>\n",
       "      <td>bottom-up</td>\n",
       "    </tr>\n",
       "    <tr>\n",
       "      <th>7</th>\n",
       "      <td>G204</td>\n",
       "      <td>1</td>\n",
       "      <td>4</td>\n",
       "      <td>6</td>\n",
       "      <td>4</td>\n",
       "      <td>3</td>\n",
       "      <td>4</td>\n",
       "      <td>3</td>\n",
       "      <td>4</td>\n",
       "      <td>4</td>\n",
       "      <td>bottom-up</td>\n",
       "    </tr>\n",
       "    <tr>\n",
       "      <th>8</th>\n",
       "      <td>G102</td>\n",
       "      <td>2</td>\n",
       "      <td>6</td>\n",
       "      <td>4</td>\n",
       "      <td>6</td>\n",
       "      <td>7</td>\n",
       "      <td>3</td>\n",
       "      <td>2</td>\n",
       "      <td>2</td>\n",
       "      <td>6</td>\n",
       "      <td>bottom-up</td>\n",
       "    </tr>\n",
       "    <tr>\n",
       "      <th>9</th>\n",
       "      <td>G104</td>\n",
       "      <td>2</td>\n",
       "      <td>1</td>\n",
       "      <td>4</td>\n",
       "      <td>4</td>\n",
       "      <td>3</td>\n",
       "      <td>2</td>\n",
       "      <td>2</td>\n",
       "      <td>4</td>\n",
       "      <td>4</td>\n",
       "      <td>bottom-up</td>\n",
       "    </tr>\n",
       "    <tr>\n",
       "      <th>10</th>\n",
       "      <td>G302</td>\n",
       "      <td>2</td>\n",
       "      <td>5</td>\n",
       "      <td>6</td>\n",
       "      <td>4</td>\n",
       "      <td>6</td>\n",
       "      <td>4</td>\n",
       "      <td>2</td>\n",
       "      <td>4</td>\n",
       "      <td>6</td>\n",
       "      <td>bottom-up</td>\n",
       "    </tr>\n",
       "    <tr>\n",
       "      <th>11</th>\n",
       "      <td>G301</td>\n",
       "      <td>2</td>\n",
       "      <td>7</td>\n",
       "      <td>7</td>\n",
       "      <td>7</td>\n",
       "      <td>5</td>\n",
       "      <td>5</td>\n",
       "      <td>7</td>\n",
       "      <td>6</td>\n",
       "      <td>6</td>\n",
       "      <td>bottom-up</td>\n",
       "    </tr>\n",
       "    <tr>\n",
       "      <th>12</th>\n",
       "      <td>G304</td>\n",
       "      <td>2</td>\n",
       "      <td>3</td>\n",
       "      <td>3</td>\n",
       "      <td>3</td>\n",
       "      <td>3</td>\n",
       "      <td>1</td>\n",
       "      <td>4</td>\n",
       "      <td>3</td>\n",
       "      <td>5</td>\n",
       "      <td>bottom-up</td>\n",
       "    </tr>\n",
       "    <tr>\n",
       "      <th>13</th>\n",
       "      <td>G103</td>\n",
       "      <td>2</td>\n",
       "      <td>5</td>\n",
       "      <td>6</td>\n",
       "      <td>6</td>\n",
       "      <td>6</td>\n",
       "      <td>5</td>\n",
       "      <td>7</td>\n",
       "      <td>6</td>\n",
       "      <td>7</td>\n",
       "      <td>bottom-up</td>\n",
       "    </tr>\n",
       "    <tr>\n",
       "      <th>14</th>\n",
       "      <td>G303</td>\n",
       "      <td>2</td>\n",
       "      <td>5</td>\n",
       "      <td>5</td>\n",
       "      <td>6</td>\n",
       "      <td>6</td>\n",
       "      <td>3</td>\n",
       "      <td>6</td>\n",
       "      <td>5</td>\n",
       "      <td>3</td>\n",
       "      <td>bottom-up</td>\n",
       "    </tr>\n",
       "    <tr>\n",
       "      <th>15</th>\n",
       "      <td>G101</td>\n",
       "      <td>2</td>\n",
       "      <td>3</td>\n",
       "      <td>2</td>\n",
       "      <td>5</td>\n",
       "      <td>4</td>\n",
       "      <td>2</td>\n",
       "      <td>4</td>\n",
       "      <td>5</td>\n",
       "      <td>6</td>\n",
       "      <td>bottom-up</td>\n",
       "    </tr>\n",
       "  </tbody>\n",
       "</table>\n",
       "</div>"
      ],
      "text/plain": [
       "     ID2  Group  Q1  Q2  Q3  Q4  Q5  Q6  Q7  Q8 Specification\n",
       "0   G402      1   5   6   5   6   4   4   5   6     bottom-up\n",
       "1   G404      1   6   6   6   6   5   7   5   7     bottom-up\n",
       "2   G403      1   6   5   6   4   5   4   3   5     bottom-up\n",
       "3   G203      1   4   4   4   5   3   2   4   4     bottom-up\n",
       "4   G401      1   2   6   6   6   6   3   4   5     bottom-up\n",
       "5   G201      1   3   2   6   4   2   4   4   7     bottom-up\n",
       "6   G202      1   2   1   2   2   3   1   2   3     bottom-up\n",
       "7   G204      1   4   6   4   3   4   3   4   4     bottom-up\n",
       "8   G102      2   6   4   6   7   3   2   2   6     bottom-up\n",
       "9   G104      2   1   4   4   3   2   2   4   4     bottom-up\n",
       "10  G302      2   5   6   4   6   4   2   4   6     bottom-up\n",
       "11  G301      2   7   7   7   5   5   7   6   6     bottom-up\n",
       "12  G304      2   3   3   3   3   1   4   3   5     bottom-up\n",
       "13  G103      2   5   6   6   6   5   7   6   7     bottom-up\n",
       "14  G303      2   5   5   6   6   3   6   5   3     bottom-up\n",
       "15  G101      2   3   2   5   4   2   4   5   6     bottom-up"
      ]
     },
     "execution_count": 2,
     "metadata": {},
     "output_type": "execute_result"
    }
   ],
   "source": [
    "bottom_up = pd.read_csv(\"bottom_up.csv\")\n",
    "bottom_up[\"Specification\"] = \"bottom-up\"\n",
    "bottom_up"
   ]
  },
  {
   "cell_type": "code",
   "execution_count": 3,
   "id": "06ab1708-47e3-4dab-b088-9b6a4e84a5a6",
   "metadata": {},
   "outputs": [
    {
     "data": {
      "text/html": [
       "<div>\n",
       "<style scoped>\n",
       "    .dataframe tbody tr th:only-of-type {\n",
       "        vertical-align: middle;\n",
       "    }\n",
       "\n",
       "    .dataframe tbody tr th {\n",
       "        vertical-align: top;\n",
       "    }\n",
       "\n",
       "    .dataframe thead th {\n",
       "        text-align: right;\n",
       "    }\n",
       "</style>\n",
       "<table border=\"1\" class=\"dataframe\">\n",
       "  <thead>\n",
       "    <tr style=\"text-align: right;\">\n",
       "      <th></th>\n",
       "      <th>ID2</th>\n",
       "      <th>Group</th>\n",
       "      <th>Q1</th>\n",
       "      <th>Q2</th>\n",
       "      <th>Q3</th>\n",
       "      <th>Q4</th>\n",
       "      <th>Q5</th>\n",
       "      <th>Q6</th>\n",
       "      <th>Q7</th>\n",
       "      <th>Q8</th>\n",
       "      <th>Specification</th>\n",
       "    </tr>\n",
       "  </thead>\n",
       "  <tbody>\n",
       "    <tr>\n",
       "      <th>0</th>\n",
       "      <td>G201</td>\n",
       "      <td>1</td>\n",
       "      <td>1</td>\n",
       "      <td>2</td>\n",
       "      <td>4</td>\n",
       "      <td>3</td>\n",
       "      <td>1</td>\n",
       "      <td>4</td>\n",
       "      <td>4</td>\n",
       "      <td>6</td>\n",
       "      <td>top-down</td>\n",
       "    </tr>\n",
       "    <tr>\n",
       "      <th>1</th>\n",
       "      <td>G403</td>\n",
       "      <td>1</td>\n",
       "      <td>3</td>\n",
       "      <td>3</td>\n",
       "      <td>3</td>\n",
       "      <td>5</td>\n",
       "      <td>2</td>\n",
       "      <td>3</td>\n",
       "      <td>4</td>\n",
       "      <td>6</td>\n",
       "      <td>top-down</td>\n",
       "    </tr>\n",
       "    <tr>\n",
       "      <th>2</th>\n",
       "      <td>G202</td>\n",
       "      <td>1</td>\n",
       "      <td>7</td>\n",
       "      <td>7</td>\n",
       "      <td>7</td>\n",
       "      <td>6</td>\n",
       "      <td>2</td>\n",
       "      <td>6</td>\n",
       "      <td>6</td>\n",
       "      <td>6</td>\n",
       "      <td>top-down</td>\n",
       "    </tr>\n",
       "    <tr>\n",
       "      <th>3</th>\n",
       "      <td>G204</td>\n",
       "      <td>1</td>\n",
       "      <td>3</td>\n",
       "      <td>3</td>\n",
       "      <td>4</td>\n",
       "      <td>5</td>\n",
       "      <td>5</td>\n",
       "      <td>4</td>\n",
       "      <td>6</td>\n",
       "      <td>6</td>\n",
       "      <td>top-down</td>\n",
       "    </tr>\n",
       "    <tr>\n",
       "      <th>4</th>\n",
       "      <td>G401</td>\n",
       "      <td>1</td>\n",
       "      <td>2</td>\n",
       "      <td>2</td>\n",
       "      <td>2</td>\n",
       "      <td>4</td>\n",
       "      <td>2</td>\n",
       "      <td>1</td>\n",
       "      <td>4</td>\n",
       "      <td>2</td>\n",
       "      <td>top-down</td>\n",
       "    </tr>\n",
       "    <tr>\n",
       "      <th>5</th>\n",
       "      <td>G203</td>\n",
       "      <td>1</td>\n",
       "      <td>5</td>\n",
       "      <td>5</td>\n",
       "      <td>5</td>\n",
       "      <td>4</td>\n",
       "      <td>4</td>\n",
       "      <td>2</td>\n",
       "      <td>4</td>\n",
       "      <td>4</td>\n",
       "      <td>top-down</td>\n",
       "    </tr>\n",
       "    <tr>\n",
       "      <th>6</th>\n",
       "      <td>G404</td>\n",
       "      <td>1</td>\n",
       "      <td>2</td>\n",
       "      <td>3</td>\n",
       "      <td>6</td>\n",
       "      <td>6</td>\n",
       "      <td>3</td>\n",
       "      <td>5</td>\n",
       "      <td>4</td>\n",
       "      <td>3</td>\n",
       "      <td>top-down</td>\n",
       "    </tr>\n",
       "    <tr>\n",
       "      <th>7</th>\n",
       "      <td>G402</td>\n",
       "      <td>1</td>\n",
       "      <td>5</td>\n",
       "      <td>2</td>\n",
       "      <td>3</td>\n",
       "      <td>5</td>\n",
       "      <td>3</td>\n",
       "      <td>2</td>\n",
       "      <td>4</td>\n",
       "      <td>6</td>\n",
       "      <td>top-down</td>\n",
       "    </tr>\n",
       "    <tr>\n",
       "      <th>8</th>\n",
       "      <td>G303</td>\n",
       "      <td>2</td>\n",
       "      <td>3</td>\n",
       "      <td>3</td>\n",
       "      <td>3</td>\n",
       "      <td>6</td>\n",
       "      <td>3</td>\n",
       "      <td>2</td>\n",
       "      <td>4</td>\n",
       "      <td>5</td>\n",
       "      <td>top-down</td>\n",
       "    </tr>\n",
       "    <tr>\n",
       "      <th>9</th>\n",
       "      <td>G103</td>\n",
       "      <td>2</td>\n",
       "      <td>2</td>\n",
       "      <td>2</td>\n",
       "      <td>5</td>\n",
       "      <td>7</td>\n",
       "      <td>1</td>\n",
       "      <td>5</td>\n",
       "      <td>5</td>\n",
       "      <td>6</td>\n",
       "      <td>top-down</td>\n",
       "    </tr>\n",
       "    <tr>\n",
       "      <th>10</th>\n",
       "      <td>G301</td>\n",
       "      <td>2</td>\n",
       "      <td>2</td>\n",
       "      <td>1</td>\n",
       "      <td>1</td>\n",
       "      <td>1</td>\n",
       "      <td>1</td>\n",
       "      <td>1</td>\n",
       "      <td>6</td>\n",
       "      <td>3</td>\n",
       "      <td>top-down</td>\n",
       "    </tr>\n",
       "    <tr>\n",
       "      <th>11</th>\n",
       "      <td>G104</td>\n",
       "      <td>2</td>\n",
       "      <td>2</td>\n",
       "      <td>3</td>\n",
       "      <td>3</td>\n",
       "      <td>4</td>\n",
       "      <td>1</td>\n",
       "      <td>1</td>\n",
       "      <td>6</td>\n",
       "      <td>3</td>\n",
       "      <td>top-down</td>\n",
       "    </tr>\n",
       "    <tr>\n",
       "      <th>12</th>\n",
       "      <td>G304</td>\n",
       "      <td>2</td>\n",
       "      <td>1</td>\n",
       "      <td>1</td>\n",
       "      <td>2</td>\n",
       "      <td>6</td>\n",
       "      <td>1</td>\n",
       "      <td>1</td>\n",
       "      <td>2</td>\n",
       "      <td>6</td>\n",
       "      <td>top-down</td>\n",
       "    </tr>\n",
       "    <tr>\n",
       "      <th>13</th>\n",
       "      <td>G102</td>\n",
       "      <td>2</td>\n",
       "      <td>2</td>\n",
       "      <td>1</td>\n",
       "      <td>2</td>\n",
       "      <td>4</td>\n",
       "      <td>2</td>\n",
       "      <td>2</td>\n",
       "      <td>4</td>\n",
       "      <td>2</td>\n",
       "      <td>top-down</td>\n",
       "    </tr>\n",
       "    <tr>\n",
       "      <th>14</th>\n",
       "      <td>G101</td>\n",
       "      <td>2</td>\n",
       "      <td>3</td>\n",
       "      <td>2</td>\n",
       "      <td>5</td>\n",
       "      <td>6</td>\n",
       "      <td>2</td>\n",
       "      <td>5</td>\n",
       "      <td>4</td>\n",
       "      <td>6</td>\n",
       "      <td>top-down</td>\n",
       "    </tr>\n",
       "    <tr>\n",
       "      <th>15</th>\n",
       "      <td>G302</td>\n",
       "      <td>2</td>\n",
       "      <td>1</td>\n",
       "      <td>1</td>\n",
       "      <td>1</td>\n",
       "      <td>1</td>\n",
       "      <td>1</td>\n",
       "      <td>1</td>\n",
       "      <td>1</td>\n",
       "      <td>1</td>\n",
       "      <td>top-down</td>\n",
       "    </tr>\n",
       "  </tbody>\n",
       "</table>\n",
       "</div>"
      ],
      "text/plain": [
       "     ID2  Group  Q1  Q2  Q3  Q4  Q5  Q6  Q7  Q8 Specification\n",
       "0   G201      1   1   2   4   3   1   4   4   6      top-down\n",
       "1   G403      1   3   3   3   5   2   3   4   6      top-down\n",
       "2   G202      1   7   7   7   6   2   6   6   6      top-down\n",
       "3   G204      1   3   3   4   5   5   4   6   6      top-down\n",
       "4   G401      1   2   2   2   4   2   1   4   2      top-down\n",
       "5   G203      1   5   5   5   4   4   2   4   4      top-down\n",
       "6   G404      1   2   3   6   6   3   5   4   3      top-down\n",
       "7   G402      1   5   2   3   5   3   2   4   6      top-down\n",
       "8   G303      2   3   3   3   6   3   2   4   5      top-down\n",
       "9   G103      2   2   2   5   7   1   5   5   6      top-down\n",
       "10  G301      2   2   1   1   1   1   1   6   3      top-down\n",
       "11  G104      2   2   3   3   4   1   1   6   3      top-down\n",
       "12  G304      2   1   1   2   6   1   1   2   6      top-down\n",
       "13  G102      2   2   1   2   4   2   2   4   2      top-down\n",
       "14  G101      2   3   2   5   6   2   5   4   6      top-down\n",
       "15  G302      2   1   1   1   1   1   1   1   1      top-down"
      ]
     },
     "execution_count": 3,
     "metadata": {},
     "output_type": "execute_result"
    }
   ],
   "source": [
    "top_down = pd.read_csv(\"top_down.csv\")\n",
    "top_down[\"Specification\"] = \"top-down\"\n",
    "top_down"
   ]
  },
  {
   "cell_type": "code",
   "execution_count": 4,
   "id": "49c270ec-04db-428f-8179-2e9b073c7d68",
   "metadata": {},
   "outputs": [
    {
     "data": {
      "text/html": [
       "<div>\n",
       "<style scoped>\n",
       "    .dataframe tbody tr th:only-of-type {\n",
       "        vertical-align: middle;\n",
       "    }\n",
       "\n",
       "    .dataframe tbody tr th {\n",
       "        vertical-align: top;\n",
       "    }\n",
       "\n",
       "    .dataframe thead th {\n",
       "        text-align: right;\n",
       "    }\n",
       "</style>\n",
       "<table border=\"1\" class=\"dataframe\">\n",
       "  <thead>\n",
       "    <tr style=\"text-align: right;\">\n",
       "      <th></th>\n",
       "      <th>ID2</th>\n",
       "      <th>Group</th>\n",
       "      <th>Specification</th>\n",
       "      <th>Question</th>\n",
       "      <th>Answer</th>\n",
       "    </tr>\n",
       "  </thead>\n",
       "  <tbody>\n",
       "    <tr>\n",
       "      <th>0</th>\n",
       "      <td>G201</td>\n",
       "      <td>1</td>\n",
       "      <td>top-down</td>\n",
       "      <td>Q1</td>\n",
       "      <td>1.0</td>\n",
       "    </tr>\n",
       "    <tr>\n",
       "      <th>1</th>\n",
       "      <td>G403</td>\n",
       "      <td>1</td>\n",
       "      <td>top-down</td>\n",
       "      <td>Q1</td>\n",
       "      <td>3.0</td>\n",
       "    </tr>\n",
       "    <tr>\n",
       "      <th>2</th>\n",
       "      <td>G202</td>\n",
       "      <td>1</td>\n",
       "      <td>top-down</td>\n",
       "      <td>Q1</td>\n",
       "      <td>7.0</td>\n",
       "    </tr>\n",
       "    <tr>\n",
       "      <th>3</th>\n",
       "      <td>G204</td>\n",
       "      <td>1</td>\n",
       "      <td>top-down</td>\n",
       "      <td>Q1</td>\n",
       "      <td>3.0</td>\n",
       "    </tr>\n",
       "    <tr>\n",
       "      <th>4</th>\n",
       "      <td>G401</td>\n",
       "      <td>1</td>\n",
       "      <td>top-down</td>\n",
       "      <td>Q1</td>\n",
       "      <td>2.0</td>\n",
       "    </tr>\n",
       "    <tr>\n",
       "      <th>...</th>\n",
       "      <td>...</td>\n",
       "      <td>...</td>\n",
       "      <td>...</td>\n",
       "      <td>...</td>\n",
       "      <td>...</td>\n",
       "    </tr>\n",
       "    <tr>\n",
       "      <th>187</th>\n",
       "      <td>G301</td>\n",
       "      <td>2</td>\n",
       "      <td>bottom-up</td>\n",
       "      <td>Q6_Q7</td>\n",
       "      <td>6.5</td>\n",
       "    </tr>\n",
       "    <tr>\n",
       "      <th>188</th>\n",
       "      <td>G304</td>\n",
       "      <td>2</td>\n",
       "      <td>bottom-up</td>\n",
       "      <td>Q6_Q7</td>\n",
       "      <td>3.5</td>\n",
       "    </tr>\n",
       "    <tr>\n",
       "      <th>189</th>\n",
       "      <td>G103</td>\n",
       "      <td>2</td>\n",
       "      <td>bottom-up</td>\n",
       "      <td>Q6_Q7</td>\n",
       "      <td>6.5</td>\n",
       "    </tr>\n",
       "    <tr>\n",
       "      <th>190</th>\n",
       "      <td>G303</td>\n",
       "      <td>2</td>\n",
       "      <td>bottom-up</td>\n",
       "      <td>Q6_Q7</td>\n",
       "      <td>5.5</td>\n",
       "    </tr>\n",
       "    <tr>\n",
       "      <th>191</th>\n",
       "      <td>G101</td>\n",
       "      <td>2</td>\n",
       "      <td>bottom-up</td>\n",
       "      <td>Q6_Q7</td>\n",
       "      <td>4.5</td>\n",
       "    </tr>\n",
       "  </tbody>\n",
       "</table>\n",
       "<p>192 rows × 5 columns</p>\n",
       "</div>"
      ],
      "text/plain": [
       "      ID2  Group Specification Question  Answer\n",
       "0    G201      1      top-down       Q1     1.0\n",
       "1    G403      1      top-down       Q1     3.0\n",
       "2    G202      1      top-down       Q1     7.0\n",
       "3    G204      1      top-down       Q1     3.0\n",
       "4    G401      1      top-down       Q1     2.0\n",
       "..    ...    ...           ...      ...     ...\n",
       "187  G301      2     bottom-up    Q6_Q7     6.5\n",
       "188  G304      2     bottom-up    Q6_Q7     3.5\n",
       "189  G103      2     bottom-up    Q6_Q7     6.5\n",
       "190  G303      2     bottom-up    Q6_Q7     5.5\n",
       "191  G101      2     bottom-up    Q6_Q7     4.5\n",
       "\n",
       "[192 rows x 5 columns]"
      ]
     },
     "execution_count": 4,
     "metadata": {},
     "output_type": "execute_result"
    }
   ],
   "source": [
    "df = pd.concat([top_down, bottom_up])\n",
    "df[\"Q2_Q3\"] = df[[\"Q2\", \"Q3\"]].mean(axis=1)\n",
    "df.drop([\"Q2\", \"Q3\"], axis=1, inplace=True)\n",
    "df[\"Q6_Q7\"] = df[[\"Q6\", \"Q7\"]].mean(axis=1)\n",
    "df.drop([\"Q6\", \"Q7\"], axis=1, inplace=True)\n",
    "df = df.melt(id_vars=[\"ID2\", \"Group\", \"Specification\"], var_name=\"Question\", value_name=\"Answer\")\n",
    "df"
   ]
  },
  {
   "cell_type": "code",
   "execution_count": 5,
   "id": "843ee9bf-b8fb-476b-b1b7-46518827ee57",
   "metadata": {},
   "outputs": [
    {
     "data": {
      "text/plain": [
       "<Axes: xlabel='Answer', ylabel='Intent'>"
      ]
     },
     "execution_count": 5,
     "metadata": {},
     "output_type": "execute_result"
    },
    {
     "data": {
      "image/png": "[encoded data removed]",
      "text/plain": [
       "<Figure size 640x480 with 1 Axes>"
      ]
     },
     "metadata": {},
     "output_type": "display_data"
    }
   ],
   "source": [
    "p = sns.violinplot(data=df, x=\"Answer\", y=\"Question\", hue=\"Specification\", gap=0.2, split=True, inner=\"quart\")\n",
    "p.set_xticks(range(1,8))\n",
    "p.set_ylabel(\"Intent\")\n",
    "p.set_yticks(range(6))\n",
    "p.set_yticklabels([\"Confidence\", \"Expresiveness\", \"Correctness\", \"Adequacy\", \"Difficulty\", \"Verifiability\"])\n",
    "sns.move_legend(p, \"upper left\", bbox_to_anchor=(1, 1))\n",
    "fig = p.get_figure()\n",
    "fig.savefig(\"quest_violinplot.pdf\", bbox_inches=\"tight\")\n",
    "p"
   ]
  },
  {
   "cell_type": "markdown",
   "id": "8370e21e-3d3a-490b-8a40-7a3195083f0d",
   "metadata": {},
   "source": [
    "## Wilcoxon Signed-Rank Test\n",
    "\n",
    "Gauging preferences for each question"
   ]
  },
  {
   "cell_type": "markdown",
   "id": "d51460ce-8dd3-443d-8f4a-9d1d36a71e1f",
   "metadata": {},
   "source": [
    "## Question 1 - Confidence\n",
    "\n",
    "Q1.After studying the tutorials and initial clarifications from the instructors, the features for modeling missions using a goal-oriented approach with X became clear to me."
   ]
  },
  {
   "cell_type": "code",
   "execution_count": 6,
   "id": "98676ca5-2ffa-4ec5-8e53-200357691c85",
   "metadata": {},
   "outputs": [
    {
     "data": {
      "text/plain": [
       "WilcoxonResult(statistic=np.float64(14.0), pvalue=np.float64(0.0148936912492968))"
      ]
     },
     "execution_count": 6,
     "metadata": {},
     "output_type": "execute_result"
    }
   ],
   "source": [
    "# Did participants prefer bottom-up or top-down?\n",
    "\n",
    "q1_bottomup = bottom_up[\"Q1\"]\n",
    "q1_topdown = top_down[\"Q1\"]\n",
    "stats.wilcoxon(q1_bottomup, q1_topdown)"
   ]
  },
  {
   "cell_type": "markdown",
   "id": "52dee25b-a38b-470a-bf2c-0862ebdb7ffa",
   "metadata": {},
   "source": [
    "- Statistically significant"
   ]
  },
  {
   "cell_type": "markdown",
   "id": "1d239af0-1a6a-4f69-aa1e-ee62d6919725",
   "metadata": {},
   "source": [
    "## Question 2 & 3 - Difficulty\n",
    "\n",
    "Q2. Modeling missions using a top-down/bottom-up approach such as X is easy."
   ]
  },
  {
   "cell_type": "code",
   "execution_count": 7,
   "id": "200b1bb2-34f0-4633-a32c-aa94ab213e84",
   "metadata": {},
   "outputs": [],
   "source": [
    "bottom_up[\"Q2_Q3\"] = bottom_up[[\"Q2\", \"Q3\"]].mean(axis=1)\n",
    "bottom_up[\"Q6_Q7\"] = bottom_up[[\"Q6\", \"Q7\"]].mean(axis=1)\n",
    "\n",
    "top_down[\"Q2_Q3\"] = top_down[[\"Q2\", \"Q3\"]].mean(axis=1)\n",
    "top_down[\"Q6_Q7\"] = top_down[[\"Q6\", \"Q7\"]].mean(axis=1)"
   ]
  },
  {
   "cell_type": "code",
   "execution_count": 8,
   "id": "285e0eb4-39e6-4a03-903f-8d9734281146",
   "metadata": {},
   "outputs": [
    {
     "data": {
      "text/plain": [
       "WilcoxonResult(statistic=np.float64(19.0), pvalue=np.float64(0.011122511741423853))"
      ]
     },
     "execution_count": 8,
     "metadata": {},
     "output_type": "execute_result"
    }
   ],
   "source": [
    "# Did participants prefer bottom-up or top-down?\n",
    "\n",
    "\n",
    "q2_bottomup = bottom_up[\"Q2_Q3\"]\n",
    "q2_topdown = top_down[\"Q2_Q3\"]\n",
    "stats.wilcoxon(q2_bottomup, q2_topdown)"
   ]
  },
  {
   "cell_type": "markdown",
   "id": "6ed3c31a-5885-4577-acd1-58152af64abb",
   "metadata": {},
   "source": [
    "- Statistically significant"
   ]
  },
  {
   "cell_type": "markdown",
   "id": "9ae43fdd-c819-44e5-b57c-678fcac61efe",
   "metadata": {},
   "source": [
    "## Question 4 - Expressiveness\n",
    "\n",
    "Q4.X provides features that allow me to express the requirements of the mission I specified."
   ]
  },
  {
   "cell_type": "code",
   "execution_count": 9,
   "id": "4f55c5c9-1d36-4da6-a153-dda477f7dfb3",
   "metadata": {},
   "outputs": [
    {
     "data": {
      "text/plain": [
       "WilcoxonResult(statistic=np.float64(43.0), pvalue=np.float64(0.8605010842117772))"
      ]
     },
     "execution_count": 9,
     "metadata": {},
     "output_type": "execute_result"
    }
   ],
   "source": [
    "# Did participants prefer bottom-up or top-down?\n",
    "\n",
    "q4_bottomup = bottom_up[\"Q4\"]\n",
    "q4_topdown = top_down[\"Q4\"]\n",
    "stats.wilcoxon(q4_bottomup, q4_topdown)"
   ]
  },
  {
   "cell_type": "markdown",
   "id": "70b0586d-fbe1-4e64-b7b7-cb1a3ab85e92",
   "metadata": {},
   "source": [
    "- Not statistically significant"
   ]
  },
  {
   "cell_type": "markdown",
   "id": "e6471411-b23e-4d97-bcf9-0eed970e5c25",
   "metadata": {},
   "source": [
    "## Question 5 - Correctness\n",
    "\n",
    "Q5. I am certain that my requirements specification for the robotic mission is correct."
   ]
  },
  {
   "cell_type": "code",
   "execution_count": 10,
   "id": "616d1868-7b46-4c74-88b0-41a833745d27",
   "metadata": {},
   "outputs": [
    {
     "data": {
      "text/plain": [
       "WilcoxonResult(statistic=np.float64(11.0), pvalue=np.float64(0.014893554419997844))"
      ]
     },
     "execution_count": 10,
     "metadata": {},
     "output_type": "execute_result"
    }
   ],
   "source": [
    "# Did participants prefer bottom-up or top-down?\n",
    "\n",
    "q5_bottomup = bottom_up[\"Q5\"]\n",
    "q5_topdown = top_down[\"Q5\"]\n",
    "stats.wilcoxon(q5_bottomup, q5_topdown)"
   ]
  },
  {
   "cell_type": "markdown",
   "id": "96fb68cf-85d1-49c1-87be-b71a5c372ac8",
   "metadata": {},
   "source": [
    "- Statistically significant"
   ]
  },
  {
   "cell_type": "markdown",
   "id": "a0df1cfc-3ee1-4888-afa8-e50fa74dfc63",
   "metadata": {},
   "source": [
    "## Question 6 and 7 - Verifiability\n",
    "\n",
    "Q6. The automatic feedback of X was useful for fixing errors during the mission specification."
   ]
  },
  {
   "cell_type": "code",
   "execution_count": 11,
   "id": "e2f6388e-ef89-41c0-88d7-2e2907980da3",
   "metadata": {},
   "outputs": [
    {
     "data": {
      "text/plain": [
       "WilcoxonResult(statistic=np.float64(50.5), pvalue=np.float64(0.36382755490285634))"
      ]
     },
     "execution_count": 11,
     "metadata": {},
     "output_type": "execute_result"
    }
   ],
   "source": [
    "# Did participants prefer bottom-up or top-down?\n",
    "\n",
    "q6_bottomup = bottom_up[\"Q6_Q7\"]\n",
    "q6_topdown = top_down[\"Q6_Q7\"]\n",
    "stats.wilcoxon(q6_bottomup, q6_topdown)"
   ]
  },
  {
   "cell_type": "markdown",
   "id": "50261bfe-0c09-47c8-a6c7-ada89f10c83b",
   "metadata": {},
   "source": [
    "- Not Statistically Significant"
   ]
  },
  {
   "cell_type": "markdown",
   "id": "5c83e51d-9cc0-4617-8918-de812d7e4a7b",
   "metadata": {},
   "source": [
    "## Question 8 - Adequacy\n",
    "\n",
    "Q8. Modelling missions on X allows me to specify mission requirements from a higher level perspective and abstract away low-level details of robotic implementations."
   ]
  },
  {
   "cell_type": "code",
   "execution_count": 12,
   "id": "e46c6dab-77e6-47ac-9750-5129931abce9",
   "metadata": {},
   "outputs": [
    {
     "data": {
      "text/plain": [
       "WilcoxonResult(statistic=np.float64(33.0), pvalue=np.float64(0.21689273952339705))"
      ]
     },
     "execution_count": 12,
     "metadata": {},
     "output_type": "execute_result"
    }
   ],
   "source": [
    "# Did participants prefer bottom-up or top-down?\n",
    "\n",
    "q8_bottomup = bottom_up[\"Q8\"]\n",
    "q8_topdown = top_down[\"Q8\"]\n",
    "stats.wilcoxon(q8_bottomup, q8_topdown)"
   ]
  },
  {
   "cell_type": "markdown",
   "id": "b9831f93-5f12-4f91-b59a-2a33032ae708",
   "metadata": {},
   "source": [
    "- Not Statistically Significant"
   ]
  },
  {
   "cell_type": "code",
   "execution_count": 13,
   "id": "d15873ec-5599-4cb0-8e13-d9871043387d",
   "metadata": {},
   "outputs": [
    {
     "data": {
      "text/html": [
       "<div>\n",
       "<style scoped>\n",
       "    .dataframe tbody tr th:only-of-type {\n",
       "        vertical-align: middle;\n",
       "    }\n",
       "\n",
       "    .dataframe tbody tr th {\n",
       "        vertical-align: top;\n",
       "    }\n",
       "\n",
       "    .dataframe thead th {\n",
       "        text-align: right;\n",
       "    }\n",
       "</style>\n",
       "<table border=\"1\" class=\"dataframe\">\n",
       "  <thead>\n",
       "    <tr style=\"text-align: right;\">\n",
       "      <th></th>\n",
       "      <th>Pvalues</th>\n",
       "      <th>Questions</th>\n",
       "    </tr>\n",
       "  </thead>\n",
       "  <tbody>\n",
       "    <tr>\n",
       "      <th>0</th>\n",
       "      <td>0.014894</td>\n",
       "      <td>Q1</td>\n",
       "    </tr>\n",
       "    <tr>\n",
       "      <th>1</th>\n",
       "      <td>0.011123</td>\n",
       "      <td>Q2</td>\n",
       "    </tr>\n",
       "    <tr>\n",
       "      <th>2</th>\n",
       "      <td>0.860501</td>\n",
       "      <td>Q3</td>\n",
       "    </tr>\n",
       "    <tr>\n",
       "      <th>3</th>\n",
       "      <td>0.014894</td>\n",
       "      <td>Q4</td>\n",
       "    </tr>\n",
       "    <tr>\n",
       "      <th>4</th>\n",
       "      <td>0.363828</td>\n",
       "      <td>Q5</td>\n",
       "    </tr>\n",
       "    <tr>\n",
       "      <th>5</th>\n",
       "      <td>0.216893</td>\n",
       "      <td>Q6</td>\n",
       "    </tr>\n",
       "  </tbody>\n",
       "</table>\n",
       "</div>"
      ],
      "text/plain": [
       "    Pvalues Questions\n",
       "0  0.014894        Q1\n",
       "1  0.011123        Q2\n",
       "2  0.860501        Q3\n",
       "3  0.014894        Q4\n",
       "4  0.363828        Q5\n",
       "5  0.216893        Q6"
      ]
     },
     "execution_count": 13,
     "metadata": {},
     "output_type": "execute_result"
    }
   ],
   "source": [
    "_, q1_p = stats.wilcoxon(q1_bottomup, q1_topdown)\n",
    "_, q2_p = stats.wilcoxon(q2_bottomup, q2_topdown)\n",
    "_, q4_p = stats.wilcoxon(q4_bottomup, q4_topdown)\n",
    "_, q5_p = stats.wilcoxon(q5_bottomup, q5_topdown)\n",
    "_, q6_p = stats.wilcoxon(q6_bottomup, q6_topdown)\n",
    "_, q8_p = stats.wilcoxon(q8_bottomup, q8_topdown)\n",
    "\n",
    "signedrank_pvalues = [q1_p, q2_p, q4_p, q5_p, q6_p, q8_p]\n",
    "questions = [f\"Q{i}\" for i in range(1, len(signedrank_pvalues)+1)]\n",
    "\n",
    "signedrank_dic = {\"Pvalues\": signedrank_pvalues, \"Questions\": questions}\n",
    "signedrank_df = pd.DataFrame(signedrank_dic)\n",
    "signedrank_df"
   ]
  },
  {
   "cell_type": "code",
   "execution_count": 14,
   "id": "f47bb451-4328-487e-9b83-26ce393f0eb5",
   "metadata": {},
   "outputs": [
    {
     "data": {
      "text/plain": [
       "<Axes: xlabel='Questions', ylabel='Pvalues'>"
      ]
     },
     "execution_count": 14,
     "metadata": {},
     "output_type": "execute_result"
    },
    {
     "data": {
      "image/png": "[encoded data removed]",
      "text/plain": [
       "<Figure size 640x480 with 1 Axes>"
      ]
     },
     "metadata": {},
     "output_type": "display_data"
    }
   ],
   "source": [
    "plt.axhline(y=0.05, linestyle='--', color=\"black\", label=\"p=0.05\")\n",
    "sns.scatterplot(data=signedrank_df, x=\"Questions\", y=\"Pvalues\")"
   ]
  },
  {
   "cell_type": "markdown",
   "id": "353daa20-d4ad-433e-afc2-8314ab74559a",
   "metadata": {},
   "source": [
    "## Conclusion\n",
    "\n",
    "- Questions Q1, Q2, Q3, Q5 were statistically significant\n",
    "- Q4, Q6, Q7 and Q8 were not statistically significant"
   ]
  },
  {
   "cell_type": "markdown",
   "id": "8788c843-11ac-4ce3-91a9-875ccc0ca629",
   "metadata": {},
   "source": [
    "# Wilcoxon Rank-Sum Test\n",
    "\n",
    "Gauging if the order of tasks was siginificant for the test"
   ]
  },
  {
   "cell_type": "code",
   "execution_count": 15,
   "id": "46dddd4e-088f-4003-99c0-74aaee4bbf02",
   "metadata": {},
   "outputs": [],
   "source": [
    "q1_group1_bottomup = bottom_up[bottom_up[\"Group\"] == 1][\"Q1\"]\n",
    "q1_group1_topdown = top_down[top_down[\"Group\"] == 1][\"Q1\"]\n",
    "q2_group1_bottomup = bottom_up[bottom_up[\"Group\"] == 1][\"Q2\"]\n",
    "q2_group1_topdown = top_down[top_down[\"Group\"] == 1][\"Q2\"]\n",
    "q3_group1_bottomup = bottom_up[bottom_up[\"Group\"] == 1][\"Q3\"]\n",
    "q3_group1_topdown = top_down[top_down[\"Group\"] == 1][\"Q3\"]\n",
    "q4_group1_bottomup = bottom_up[bottom_up[\"Group\"] == 1][\"Q4\"]\n",
    "q4_group1_topdown = top_down[top_down[\"Group\"] == 1][\"Q4\"]\n",
    "q5_group1_bottomup = bottom_up[bottom_up[\"Group\"] == 1][\"Q5\"]\n",
    "q5_group1_topdown = top_down[top_down[\"Group\"] == 1][\"Q5\"]\n",
    "q6_group1_bottomup = bottom_up[bottom_up[\"Group\"] == 1][\"Q6\"]\n",
    "q6_group1_topdown = top_down[top_down[\"Group\"] == 1][\"Q6\"]\n",
    "q7_group1_bottomup = bottom_up[bottom_up[\"Group\"] == 1][\"Q7\"]\n",
    "q7_group1_topdown = top_down[top_down[\"Group\"] == 1][\"Q7\"]\n",
    "q8_group1_bottomup = bottom_up[bottom_up[\"Group\"] == 1][\"Q8\"]\n",
    "q8_group1_topdown = top_down[top_down[\"Group\"] == 1][\"Q8\"]\n",
    "\n",
    "q1_group2_bottomup = bottom_up[bottom_up[\"Group\"] == 2][\"Q1\"]\n",
    "q1_group2_topdown = top_down[top_down[\"Group\"] == 2][\"Q1\"]\n",
    "q2_group2_bottomup = bottom_up[bottom_up[\"Group\"] == 2][\"Q2\"]\n",
    "q2_group2_topdown = top_down[top_down[\"Group\"] == 2][\"Q2\"]\n",
    "q3_group2_bottomup = bottom_up[bottom_up[\"Group\"] == 2][\"Q3\"]\n",
    "q3_group2_topdown = top_down[top_down[\"Group\"] == 2][\"Q3\"]\n",
    "q4_group2_bottomup = bottom_up[bottom_up[\"Group\"] == 2][\"Q4\"]\n",
    "q4_group2_topdown = top_down[top_down[\"Group\"] == 2][\"Q4\"]\n",
    "q5_group2_bottomup = bottom_up[bottom_up[\"Group\"] == 2][\"Q5\"]\n",
    "q5_group2_topdown = top_down[top_down[\"Group\"] == 2][\"Q5\"]\n",
    "q6_group2_bottomup = bottom_up[bottom_up[\"Group\"] == 2][\"Q6\"]\n",
    "q6_group2_topdown = top_down[top_down[\"Group\"] == 2][\"Q6\"]\n",
    "q7_group2_bottomup = bottom_up[bottom_up[\"Group\"] == 2][\"Q7\"]\n",
    "q7_group2_topdown = top_down[top_down[\"Group\"] == 2][\"Q7\"]\n",
    "q8_group2_bottomup = bottom_up[bottom_up[\"Group\"] == 2][\"Q8\"]\n",
    "q8_group2_topdown = top_down[top_down[\"Group\"] == 2][\"Q8\"]"
   ]
  },
  {
   "cell_type": "markdown",
   "id": "76c9c92a-861a-4176-9109-36a98de29e3d",
   "metadata": {},
   "source": [
    "## Question 1\n",
    "\n",
    "Q1.After studying the tutorials and initial clarifications from the instructors, the features for modeling missions using a goal-oriented approach with X became clear to me."
   ]
  },
  {
   "cell_type": "code",
   "execution_count": 16,
   "id": "2bdb3561-9c68-4c45-a8f9-2503ea885f6b",
   "metadata": {},
   "outputs": [
    {
     "data": {
      "text/plain": [
       "MannwhitneyuResult(statistic=np.float64(16.5), pvalue=np.float64(0.11008852322972595))"
      ]
     },
     "execution_count": 16,
     "metadata": {},
     "output_type": "execute_result"
    }
   ],
   "source": [
    "# Did the order impact the groups?\n",
    "\n",
    "q1_group1_diff = q1_group1_bottomup - q1_group1_topdown\n",
    "q1_group2_diff = q1_group2_bottomup - q1_group2_topdown\n",
    "\n",
    "stats.mannwhitneyu(q1_group1_diff, q1_group2_diff, alternative=\"two-sided\")"
   ]
  },
  {
   "cell_type": "markdown",
   "id": "ee562191-b5ed-4c38-9237-cc0af333f58f",
   "metadata": {},
   "source": [
    "- The test showed the order has no significant impact in Q1"
   ]
  },
  {
   "cell_type": "markdown",
   "id": "40148586-45df-4d64-86b5-6ed92b35dce5",
   "metadata": {},
   "source": [
    "## Question 2"
   ]
  },
  {
   "cell_type": "code",
   "execution_count": 17,
   "id": "bf39bb35-2011-4235-9a51-4c8382cb7ccb",
   "metadata": {},
   "outputs": [
    {
     "data": {
      "text/plain": [
       "MannwhitneyuResult(statistic=np.float64(22.0), pvalue=np.float64(0.3119338839077299))"
      ]
     },
     "execution_count": 17,
     "metadata": {},
     "output_type": "execute_result"
    }
   ],
   "source": [
    "# Did the order impact the groups?\n",
    "\n",
    "q2_group1_diff = q2_group1_bottomup - q2_group1_topdown\n",
    "q2_group2_diff = q2_group2_bottomup - q2_group2_topdown\n",
    "\n",
    "stats.mannwhitneyu(q2_group1_diff, q2_group2_diff, alternative=\"two-sided\")"
   ]
  },
  {
   "cell_type": "markdown",
   "id": "92d69022-c89a-4d5b-8d52-a54358670086",
   "metadata": {},
   "source": [
    "- The test showed the order has no significant impact in Q2"
   ]
  },
  {
   "cell_type": "markdown",
   "id": "78c5e5e9-7909-4617-b3c8-7c41683b9bb2",
   "metadata": {},
   "source": [
    "## Question 3"
   ]
  },
  {
   "cell_type": "code",
   "execution_count": 18,
   "id": "05520205-2a56-452f-a436-6a7711010ae8",
   "metadata": {},
   "outputs": [
    {
     "data": {
      "text/plain": [
       "MannwhitneyuResult(statistic=np.float64(18.0), pvalue=np.float64(0.14546383348396352))"
      ]
     },
     "execution_count": 18,
     "metadata": {},
     "output_type": "execute_result"
    }
   ],
   "source": [
    "# Did the order impact the groups?\n",
    "\n",
    "q3_group1_diff = q3_group1_bottomup - q3_group1_topdown\n",
    "q3_group2_diff = q3_group2_bottomup - q3_group2_topdown\n",
    "\n",
    "stats.mannwhitneyu(q3_group1_diff, q3_group2_diff, alternative=\"two-sided\")"
   ]
  },
  {
   "cell_type": "markdown",
   "id": "6598e9e0-917c-46c5-be06-be35fb575c97",
   "metadata": {},
   "source": [
    "- The test showed the order has no significant impact in Q3"
   ]
  },
  {
   "cell_type": "markdown",
   "id": "24029126-d377-4a9c-a9ae-986ee99ed0c0",
   "metadata": {},
   "source": [
    "## Question 4"
   ]
  },
  {
   "cell_type": "code",
   "execution_count": 19,
   "id": "5a2121e1-9e7d-4f81-8c0e-7b008be36d32",
   "metadata": {},
   "outputs": [
    {
     "data": {
      "text/plain": [
       "MannwhitneyuResult(statistic=np.float64(25.5), pvalue=np.float64(0.5249324323264364))"
      ]
     },
     "execution_count": 19,
     "metadata": {},
     "output_type": "execute_result"
    }
   ],
   "source": [
    "# Did the order impact the groups?\n",
    "\n",
    "q4_group1_diff = q4_group1_bottomup - q4_group1_topdown\n",
    "q4_group2_diff = q4_group2_bottomup - q4_group2_topdown\n",
    "\n",
    "stats.mannwhitneyu(q4_group1_diff, q4_group2_diff, alternative=\"two-sided\")"
   ]
  },
  {
   "cell_type": "markdown",
   "id": "ece1236b-4e8b-4dad-bcdb-3f967a856148",
   "metadata": {},
   "source": [
    "- The test showed the order has no significant impact in Q4"
   ]
  },
  {
   "cell_type": "markdown",
   "id": "45461209-f699-4be7-a806-cf3cd8b905bb",
   "metadata": {},
   "source": [
    "## Question 5"
   ]
  },
  {
   "cell_type": "code",
   "execution_count": 20,
   "id": "7229a363-1c29-41ac-9f0c-0ff42437e776",
   "metadata": {},
   "outputs": [
    {
     "data": {
      "text/plain": [
       "MannwhitneyuResult(statistic=np.float64(30.0), pvalue=np.float64(0.8714045322237178))"
      ]
     },
     "execution_count": 20,
     "metadata": {},
     "output_type": "execute_result"
    }
   ],
   "source": [
    "# Did the order impact the groups?\n",
    "\n",
    "q5_group1_diff = q5_group1_bottomup - q5_group1_topdown\n",
    "q5_group2_diff = q5_group2_bottomup - q5_group2_topdown\n",
    "\n",
    "stats.mannwhitneyu(q5_group1_diff, q5_group2_diff, alternative=\"two-sided\")"
   ]
  },
  {
   "cell_type": "markdown",
   "id": "229201fb-277a-4e72-b98c-016bcac1869e",
   "metadata": {},
   "source": [
    "- The test showed the order has no significant impact in Q5"
   ]
  },
  {
   "cell_type": "markdown",
   "id": "ee931a8d-5492-44f2-af2c-034ad0516d1d",
   "metadata": {},
   "source": [
    "## Question 6"
   ]
  },
  {
   "cell_type": "code",
   "execution_count": 21,
   "id": "1ae3f0cf-0dcb-410b-95ea-d97ade592d13",
   "metadata": {},
   "outputs": [
    {
     "data": {
      "text/plain": [
       "MannwhitneyuResult(statistic=np.float64(20.5), pvalue=np.float64(0.24520008673249938))"
      ]
     },
     "execution_count": 21,
     "metadata": {},
     "output_type": "execute_result"
    }
   ],
   "source": [
    "# Did the order impact the groups?\n",
    "\n",
    "q6_group1_diff = q6_group1_bottomup - q6_group1_topdown\n",
    "q6_group2_diff = q6_group2_bottomup - q6_group2_topdown\n",
    "\n",
    "stats.mannwhitneyu(q6_group1_diff, q6_group2_diff, alternative=\"two-sided\")"
   ]
  },
  {
   "cell_type": "markdown",
   "id": "dd00b1a8-cad0-4e29-94a6-d5ccac50967e",
   "metadata": {},
   "source": [
    "- The test showed the order has no significant impact in Q6"
   ]
  },
  {
   "cell_type": "markdown",
   "id": "8b2e45a9-c00e-4d92-8ad1-18c2ef0b0c83",
   "metadata": {},
   "source": [
    "## Question 7"
   ]
  },
  {
   "cell_type": "code",
   "execution_count": 22,
   "id": "3f98526e-b056-4d75-b505-8e0361671eea",
   "metadata": {},
   "outputs": [
    {
     "data": {
      "text/plain": [
       "MannwhitneyuResult(statistic=np.float64(22.5), pvalue=np.float64(0.33366648508297103))"
      ]
     },
     "execution_count": 22,
     "metadata": {},
     "output_type": "execute_result"
    }
   ],
   "source": [
    "# Did the order impact the groups?\n",
    "\n",
    "q7_group1_diff = q7_group1_bottomup - q7_group1_topdown\n",
    "q7_group2_diff = q7_group2_bottomup - q7_group2_topdown\n",
    "\n",
    "stats.mannwhitneyu(q7_group1_diff, q7_group2_diff, alternative=\"two-sided\")"
   ]
  },
  {
   "cell_type": "markdown",
   "id": "fbb8f19e-a854-4624-8d74-e91c2e51bb23",
   "metadata": {},
   "source": [
    "- The test showed the order has no significant impact in Q7"
   ]
  },
  {
   "cell_type": "markdown",
   "id": "653d7660-fb01-4afe-bac2-62d7329acf7e",
   "metadata": {},
   "source": [
    "## Question 8"
   ]
  },
  {
   "cell_type": "code",
   "execution_count": 23,
   "id": "f2d3574d-a790-4ca1-bf27-017ea8d88cd7",
   "metadata": {},
   "outputs": [
    {
     "data": {
      "text/plain": [
       "MannwhitneyuResult(statistic=np.float64(25.0), pvalue=np.float64(0.48902848314740066))"
      ]
     },
     "execution_count": 23,
     "metadata": {},
     "output_type": "execute_result"
    }
   ],
   "source": [
    "# Did the order impact the groups?\n",
    "\n",
    "q8_group1_diff = q8_group1_bottomup - q8_group1_topdown\n",
    "q8_group2_diff = q8_group2_bottomup - q8_group2_topdown\n",
    "\n",
    "stats.mannwhitneyu(q8_group1_diff, q8_group2_diff, alternative=\"two-sided\")"
   ]
  },
  {
   "cell_type": "markdown",
   "id": "4f0d777e-a01d-440a-bae0-b3a2507eae46",
   "metadata": {},
   "source": [
    "- The test showed the order has no significant impact in Q8"
   ]
  },
  {
   "cell_type": "code",
   "execution_count": 24,
   "id": "a64b54d3-2231-44a2-89d5-b54253eaef28",
   "metadata": {},
   "outputs": [
    {
     "data": {
      "text/plain": [
       "<Axes: xlabel='Questions', ylabel='p-values'>"
      ]
     },
     "execution_count": 24,
     "metadata": {},
     "output_type": "execute_result"
    },
    {
     "data": {
      "image/png": "[encoded data removed]",
      "text/plain": [
       "<Figure size 640x480 with 1 Axes>"
      ]
     },
     "metadata": {},
     "output_type": "display_data"
    }
   ],
   "source": [
    "_, q1_ranksum = stats.mannwhitneyu(q1_group1_diff, q1_group2_diff, alternative=\"two-sided\")\n",
    "_, q2_ranksum = stats.mannwhitneyu(q2_group1_diff, q2_group2_diff, alternative=\"two-sided\")\n",
    "_, q3_ranksum = stats.mannwhitneyu(q3_group1_diff, q3_group2_diff, alternative=\"two-sided\")\n",
    "_, q4_ranksum = stats.mannwhitneyu(q4_group1_diff, q4_group2_diff, alternative=\"two-sided\")\n",
    "_, q5_ranksum = stats.mannwhitneyu(q5_group1_diff, q5_group2_diff, alternative=\"two-sided\")\n",
    "_, q6_ranksum = stats.mannwhitneyu(q6_group1_diff, q6_group2_diff, alternative=\"two-sided\")\n",
    "_, q7_ranksum = stats.mannwhitneyu(q7_group1_diff, q7_group2_diff, alternative=\"two-sided\")\n",
    "_, q8_ranksum = stats.mannwhitneyu(q8_group1_diff, q8_group2_diff, alternative=\"two-sided\")\n",
    "\n",
    "questions = [f\"Q{i}\" for i in range(1, 9)]\n",
    "ranksum_pvalues = [q1_ranksum, q2_ranksum, q3_ranksum, q4_ranksum, q5_ranksum, q6_ranksum, q7_ranksum, q8_ranksum]\n",
    "ranksum_df = pd.DataFrame({\"Questions\": questions, \"p-values\": ranksum_pvalues})\n",
    "\n",
    "plt.axhline(y=0.05, linestyle='--', color=\"black\", label=\"p=0.05\")\n",
    "sns.scatterplot(data=ranksum_df, x=\"Questions\", y=\"p-values\", label=\"Group Difference\")"
   ]
  },
  {
   "cell_type": "markdown",
   "id": "09eb29c1-eaea-4496-aaa6-1b7baadf92c6",
   "metadata": {},
   "source": [
    "## Conclusion\n",
    "\n",
    "None of the questions were significantly impacted by which approach was used first."
   ]
  },
  {
   "cell_type": "markdown",
   "id": "39d173ea",
   "metadata": {},
   "source": [
    "## Wilcoxon one-sample test"
   ]
  },
  {
   "cell_type": "markdown",
   "id": "af78e869",
   "metadata": {},
   "source": [
    "### Calculate Effect for each group with hypothesis: µ ≥ 0"
   ]
  },
  {
   "cell_type": "markdown",
   "id": "1cc7c22d",
   "metadata": {},
   "source": [
    "#### Q1"
   ]
  },
  {
   "cell_type": "code",
   "execution_count": 25,
   "id": "7a943154",
   "metadata": {},
   "outputs": [
    {
     "name": "stdout",
     "output_type": "stream",
     "text": [
      "Q1 Group1 Bottom Up:3.7123106012293743, Top Down:4.419417382415921\n",
      "Q1 Group2 Bottom Up:4.772970773009195, Top Down:0.0\n"
     ]
    }
   ],
   "source": [
    "w_q1_group1_bottomup, p = stats.wilcoxon(q1_group1_bottomup - 4)\n",
    "w_q1_group1_topdown, p_val = stats.wilcoxon(q1_group1_topdown - 4)\n",
    "w_q1_group2_bottomup, p_val = stats.wilcoxon(q1_group2_bottomup - 4)\n",
    "w_q1_group2_topdown, p_val = stats.wilcoxon(q1_group2_topdown - 4)\n",
    "\n",
    "effect_q1_group1_bottomup = w_q1_group1_bottomup/np.sqrt(q1_group1_bottomup.size)\n",
    "effect_q1_group1_topdown = w_q1_group1_topdown/np.sqrt(q1_group1_topdown.size)\n",
    "effect_q1_group2_bottomup = w_q1_group2_bottomup/np.sqrt(q1_group2_bottomup.size)\n",
    "effect_q1_group2_topdown = w_q1_group2_topdown/np.sqrt(q1_group2_topdown.size)\n",
    "\n",
    "print(f'Q1 Group1 Bottom Up:{effect_q1_group1_bottomup}, Top Down:{effect_q1_group1_topdown}')\n",
    "print(f'Q1 Group2 Bottom Up:{effect_q1_group2_bottomup}, Top Down:{effect_q1_group2_topdown}')"
   ]
  },
  {
   "cell_type": "markdown",
   "id": "5fb54b95",
   "metadata": {},
   "source": [
    "#### Q2"
   ]
  },
  {
   "cell_type": "code",
   "execution_count": 26,
   "id": "9fcb7df8",
   "metadata": {},
   "outputs": [
    {
     "name": "stdout",
     "output_type": "stream",
     "text": [
      "Q2 Group1 Bottom Up:3.8890872965260113, Top Down:3.7123106012293743\n",
      "Q2 Group2 Bottom Up:1.9445436482630056, Top Down:0.0\n"
     ]
    }
   ],
   "source": [
    "w_q2_group1_bottomup, p = stats.wilcoxon(q2_group1_bottomup - 4)\n",
    "w_q2_group1_topdown, p_val = stats.wilcoxon(q2_group1_topdown - 4)\n",
    "w_q2_group2_bottomup, p_val = stats.wilcoxon(q2_group2_bottomup - 4)\n",
    "w_q2_group2_topdown, p_val = stats.wilcoxon(q2_group2_topdown - 4)\n",
    "\n",
    "effect_q2_group1_bottomup = w_q2_group1_bottomup/np.sqrt(q2_group1_bottomup.size)\n",
    "effect_q2_group1_topdown = w_q2_group1_topdown/np.sqrt(q2_group1_topdown.size)\n",
    "effect_q2_group2_bottomup = w_q2_group2_bottomup/np.sqrt(q2_group2_bottomup.size)\n",
    "effect_q2_group2_topdown = w_q2_group2_topdown/np.sqrt(q2_group2_topdown.size)\n",
    "\n",
    "print(f'Q2 Group1 Bottom Up:{effect_q2_group1_bottomup}, Top Down:{effect_q2_group1_topdown}')\n",
    "print(f'Q2 Group2 Bottom Up:{effect_q2_group2_bottomup}, Top Down:{effect_q2_group2_topdown}')"
   ]
  },
  {
   "cell_type": "markdown",
   "id": "d0b64464",
   "metadata": {},
   "source": [
    "#### Q3"
   ]
  },
  {
   "cell_type": "code",
   "execution_count": 27,
   "id": "30801153",
   "metadata": {},
   "outputs": [
    {
     "name": "stdout",
     "output_type": "stream",
     "text": [
      "Q3 Group1 Bottom Up:1.414213562373095, Top Down:3.005203820042827\n",
      "Q3 Group2 Bottom Up:0.5303300858899106, Top Down:1.7677669529663687\n"
     ]
    }
   ],
   "source": [
    "w_q3_group1_bottomup, p = stats.wilcoxon(q3_group1_bottomup - 4)\n",
    "w_q3_group1_topdown, p_val = stats.wilcoxon(q3_group1_topdown - 4)\n",
    "w_q3_group2_bottomup, p_val = stats.wilcoxon(q3_group2_bottomup - 4)\n",
    "w_q3_group2_topdown, p_val = stats.wilcoxon(q3_group2_topdown - 4)\n",
    "\n",
    "effect_q3_group1_bottomup = w_q3_group1_bottomup/np.sqrt(q3_group1_bottomup.size)\n",
    "effect_q3_group1_topdown = w_q3_group1_topdown/np.sqrt(q3_group1_topdown.size)\n",
    "effect_q3_group2_bottomup = w_q3_group2_bottomup/np.sqrt(q3_group2_bottomup.size)\n",
    "effect_q3_group2_topdown = w_q3_group2_topdown/np.sqrt(q3_group2_topdown.size)\n",
    "\n",
    "print(f'Q3 Group1 Bottom Up:{effect_q3_group1_bottomup}, Top Down:{effect_q3_group1_topdown}')\n",
    "print(f'Q3 Group2 Bottom Up:{effect_q3_group2_bottomup}, Top Down:{effect_q3_group2_topdown}')"
   ]
  },
  {
   "cell_type": "markdown",
   "id": "ba8bb327",
   "metadata": {},
   "source": [
    "#### Q4"
   ]
  },
  {
   "cell_type": "code",
   "execution_count": 28,
   "id": "3619d0da",
   "metadata": {},
   "outputs": [
    {
     "name": "stdout",
     "output_type": "stream",
     "text": [
      "Q4 Group1 Bottom Up:2.1213203435596424, Top Down:0.8838834764831843\n",
      "Q4 Group2 Bottom Up:1.414213562373095, Top Down:3.5355339059327373\n"
     ]
    }
   ],
   "source": [
    "w_q4_group1_bottomup, p = stats.wilcoxon(q4_group1_bottomup - 4)\n",
    "w_q4_group1_topdown, p_val = stats.wilcoxon(q4_group1_topdown - 4)\n",
    "w_q4_group2_bottomup, p_val = stats.wilcoxon(q4_group2_bottomup - 4)\n",
    "w_q4_group2_topdown, p_val = stats.wilcoxon(q4_group2_topdown - 4)\n",
    "\n",
    "effect_q4_group1_bottomup = w_q4_group1_bottomup/np.sqrt(q4_group1_bottomup.size)\n",
    "effect_q4_group1_topdown = w_q4_group1_topdown/np.sqrt(q4_group1_topdown.size)\n",
    "effect_q4_group2_bottomup = w_q4_group2_bottomup/np.sqrt(q4_group2_bottomup.size)\n",
    "effect_q4_group2_topdown = w_q4_group2_topdown/np.sqrt(q4_group2_topdown.size)\n",
    "\n",
    "print(f'Q4 Group1 Bottom Up:{effect_q4_group1_bottomup}, Top Down:{effect_q4_group1_topdown}')\n",
    "print(f'Q4 Group2 Bottom Up:{effect_q4_group2_bottomup}, Top Down:{effect_q4_group2_topdown}')"
   ]
  },
  {
   "cell_type": "markdown",
   "id": "6fc26b67",
   "metadata": {},
   "source": [
    "#### Q5"
   ]
  },
  {
   "cell_type": "code",
   "execution_count": 29,
   "id": "6a130d42",
   "metadata": {},
   "outputs": [
    {
     "name": "stdout",
     "output_type": "stream",
     "text": [
      "Q5 Group1 Bottom Up:3.7123106012293743, Top Down:0.7071067811865475\n",
      "Q5 Group2 Bottom Up:1.7677669529663687, Top Down:0.0\n"
     ]
    }
   ],
   "source": [
    "w_q5_group1_bottomup, p = stats.wilcoxon(q5_group1_bottomup - 4)\n",
    "w_q5_group1_topdown, p_val = stats.wilcoxon(q5_group1_topdown - 4)\n",
    "w_q5_group2_bottomup, p_val = stats.wilcoxon(q5_group2_bottomup - 4)\n",
    "w_q5_group2_topdown, p_val = stats.wilcoxon(q5_group2_topdown - 4)\n",
    "\n",
    "effect_q5_group1_bottomup = w_q5_group1_bottomup/np.sqrt(q5_group1_bottomup.size)\n",
    "effect_q5_group1_topdown = w_q5_group1_topdown/np.sqrt(q5_group1_topdown.size)\n",
    "effect_q5_group2_bottomup = w_q5_group2_bottomup/np.sqrt(q5_group2_bottomup.size)\n",
    "effect_q5_group2_topdown = w_q5_group2_topdown/np.sqrt(q5_group2_topdown.size)\n",
    "\n",
    "print(f'Q5 Group1 Bottom Up:{effect_q5_group1_bottomup}, Top Down:{effect_q5_group1_topdown}')\n",
    "print(f'Q5 Group2 Bottom Up:{effect_q5_group2_bottomup}, Top Down:{effect_q5_group2_topdown}')"
   ]
  },
  {
   "cell_type": "markdown",
   "id": "4ced6ea5",
   "metadata": {},
   "source": [
    "#### Q6"
   ]
  },
  {
   "cell_type": "code",
   "execution_count": 30,
   "id": "f8387548",
   "metadata": {},
   "outputs": [
    {
     "name": "stdout",
     "output_type": "stream",
     "text": [
      "Q6 Group1 Bottom Up:1.590990257669732, Top Down:1.9445436482630056\n",
      "Q6 Group2 Bottom Up:2.651650429449553, Top Down:1.0606601717798212\n"
     ]
    }
   ],
   "source": [
    "w_q6_group1_bottomup, p = stats.wilcoxon(q6_group1_bottomup - 4)\n",
    "w_q6_group1_topdown, p_val = stats.wilcoxon(q6_group1_topdown - 4)\n",
    "w_q6_group2_bottomup, p_val = stats.wilcoxon(q6_group2_bottomup - 4)\n",
    "w_q6_group2_topdown, p_val = stats.wilcoxon(q6_group2_topdown - 4)\n",
    "\n",
    "effect_q6_group1_bottomup = w_q6_group1_bottomup/np.sqrt(q6_group1_bottomup.size)\n",
    "effect_q6_group1_topdown = w_q6_group1_topdown/np.sqrt(q6_group1_topdown.size)\n",
    "effect_q6_group2_bottomup = w_q6_group2_bottomup/np.sqrt(q6_group2_bottomup.size)\n",
    "effect_q6_group2_topdown = w_q6_group2_topdown/np.sqrt(q6_group2_topdown.size)\n",
    "\n",
    "print(f'Q6 Group1 Bottom Up:{effect_q6_group1_bottomup}, Top Down:{effect_q6_group1_topdown}')\n",
    "print(f'Q6 Group2 Bottom Up:{effect_q6_group2_bottomup}, Top Down:{effect_q6_group2_topdown}')"
   ]
  },
  {
   "cell_type": "markdown",
   "id": "86c035e3",
   "metadata": {},
   "source": [
    "#### Q7"
   ]
  },
  {
   "cell_type": "code",
   "execution_count": 31,
   "id": "27fea5e1",
   "metadata": {},
   "outputs": [
    {
     "name": "stdout",
     "output_type": "stream",
     "text": [
      "Q7 Group1 Bottom Up:1.414213562373095, Top Down:0.0\n",
      "Q7 Group2 Bottom Up:2.4748737341529163, Top Down:2.4748737341529163\n"
     ]
    }
   ],
   "source": [
    "w_q7_group1_bottomup, p = stats.wilcoxon(q7_group1_bottomup - 4)\n",
    "w_q7_group1_topdown, p_val = stats.wilcoxon(q7_group1_topdown - 4)\n",
    "w_q7_group2_bottomup, p_val = stats.wilcoxon(q7_group2_bottomup - 4)\n",
    "w_q7_group2_topdown, p_val = stats.wilcoxon(q7_group2_topdown - 4)\n",
    "\n",
    "effect_q7_group1_bottomup = w_q7_group1_bottomup/np.sqrt(q7_group1_bottomup.size)\n",
    "effect_q7_group1_topdown = w_q7_group1_topdown/np.sqrt(q7_group1_topdown.size)\n",
    "effect_q7_group2_bottomup = w_q7_group2_bottomup/np.sqrt(q7_group2_bottomup.size)\n",
    "effect_q7_group2_topdown = w_q7_group2_topdown/np.sqrt(q7_group2_topdown.size)\n",
    "print(f'Q7 Group1 Bottom Up:{effect_q7_group1_bottomup}, Top Down:{effect_q7_group1_topdown}')\n",
    "print(f'Q7 Group2 Bottom Up:{effect_q7_group2_bottomup}, Top Down:{effect_q7_group2_topdown}')"
   ]
  },
  {
   "cell_type": "markdown",
   "id": "5b8f1728",
   "metadata": {},
   "source": [
    "#### Q8"
   ]
  },
  {
   "cell_type": "code",
   "execution_count": 32,
   "id": "359916f0",
   "metadata": {},
   "outputs": [
    {
     "name": "stdout",
     "output_type": "stream",
     "text": [
      "Q8 Group1 Bottom Up:0.7071067811865475, Top Down:1.9445436482630056\n",
      "Q8 Group2 Bottom Up:0.5303300858899106, Top Down:6.18718433538229\n"
     ]
    }
   ],
   "source": [
    "w_q8_group1_bottomup, p = stats.wilcoxon(q8_group1_bottomup - 4)\n",
    "w_q8_group1_topdown, p_val = stats.wilcoxon(q8_group1_topdown - 4)\n",
    "w_q8_group2_bottomup, p_val = stats.wilcoxon(q8_group2_bottomup - 4)\n",
    "w_q8_group2_topdown, p_val = stats.wilcoxon(q8_group2_topdown - 4)\n",
    "\n",
    "effect_q8_group1_bottomup = w_q8_group1_bottomup/np.sqrt(q8_group1_bottomup.size)\n",
    "effect_q8_group1_topdown = w_q8_group1_topdown/np.sqrt(q8_group1_topdown.size)\n",
    "effect_q8_group2_bottomup = w_q8_group2_bottomup/np.sqrt(q8_group2_bottomup.size)\n",
    "effect_q8_group2_topdown = w_q8_group2_topdown/np.sqrt(q8_group2_topdown.size)\n",
    "print(f'Q8 Group1 Bottom Up:{effect_q8_group1_bottomup}, Top Down:{effect_q8_group1_topdown}')\n",
    "print(f'Q8 Group2 Bottom Up:{effect_q8_group2_bottomup}, Top Down:{effect_q8_group2_topdown}')"
   ]
  },
  {
   "cell_type": "markdown",
   "id": "eacc8d12",
   "metadata": {},
   "source": [
    "## Practical Significance Analysis\n",
    "\n",
    "We conduct the Wilcoxon Test to measure the practical significance of each approach"
   ]
  },
  {
   "cell_type": "code",
   "execution_count": 33,
   "id": "fbe4eb16",
   "metadata": {},
   "outputs": [
    {
     "data": {
      "text/html": [
       "<div>\n",
       "<style scoped>\n",
       "    .dataframe tbody tr th:only-of-type {\n",
       "        vertical-align: middle;\n",
       "    }\n",
       "\n",
       "    .dataframe tbody tr th {\n",
       "        vertical-align: top;\n",
       "    }\n",
       "\n",
       "    .dataframe thead th {\n",
       "        text-align: right;\n",
       "    }\n",
       "</style>\n",
       "<table border=\"1\" class=\"dataframe\">\n",
       "  <thead>\n",
       "    <tr style=\"text-align: right;\">\n",
       "      <th></th>\n",
       "      <th>Questions</th>\n",
       "      <th>Effect_Size</th>\n",
       "      <th>Specification</th>\n",
       "    </tr>\n",
       "  </thead>\n",
       "  <tbody>\n",
       "    <tr>\n",
       "      <th>0</th>\n",
       "      <td>Q1</td>\n",
       "      <td>3.712311</td>\n",
       "      <td>bottomup</td>\n",
       "    </tr>\n",
       "    <tr>\n",
       "      <th>1</th>\n",
       "      <td>Q2</td>\n",
       "      <td>3.889087</td>\n",
       "      <td>bottomup</td>\n",
       "    </tr>\n",
       "    <tr>\n",
       "      <th>2</th>\n",
       "      <td>Q3</td>\n",
       "      <td>1.414214</td>\n",
       "      <td>bottomup</td>\n",
       "    </tr>\n",
       "    <tr>\n",
       "      <th>3</th>\n",
       "      <td>Q4</td>\n",
       "      <td>2.121320</td>\n",
       "      <td>bottomup</td>\n",
       "    </tr>\n",
       "    <tr>\n",
       "      <th>4</th>\n",
       "      <td>Q5</td>\n",
       "      <td>3.712311</td>\n",
       "      <td>bottomup</td>\n",
       "    </tr>\n",
       "    <tr>\n",
       "      <th>5</th>\n",
       "      <td>Q6</td>\n",
       "      <td>1.590990</td>\n",
       "      <td>bottomup</td>\n",
       "    </tr>\n",
       "    <tr>\n",
       "      <th>6</th>\n",
       "      <td>Q7</td>\n",
       "      <td>1.414214</td>\n",
       "      <td>bottomup</td>\n",
       "    </tr>\n",
       "    <tr>\n",
       "      <th>7</th>\n",
       "      <td>Q8</td>\n",
       "      <td>0.707107</td>\n",
       "      <td>bottomup</td>\n",
       "    </tr>\n",
       "    <tr>\n",
       "      <th>0</th>\n",
       "      <td>Q1</td>\n",
       "      <td>4.419417</td>\n",
       "      <td>topdown</td>\n",
       "    </tr>\n",
       "    <tr>\n",
       "      <th>1</th>\n",
       "      <td>Q2</td>\n",
       "      <td>3.712311</td>\n",
       "      <td>topdown</td>\n",
       "    </tr>\n",
       "    <tr>\n",
       "      <th>2</th>\n",
       "      <td>Q3</td>\n",
       "      <td>3.005204</td>\n",
       "      <td>topdown</td>\n",
       "    </tr>\n",
       "    <tr>\n",
       "      <th>3</th>\n",
       "      <td>Q4</td>\n",
       "      <td>0.883883</td>\n",
       "      <td>topdown</td>\n",
       "    </tr>\n",
       "    <tr>\n",
       "      <th>4</th>\n",
       "      <td>Q5</td>\n",
       "      <td>0.707107</td>\n",
       "      <td>topdown</td>\n",
       "    </tr>\n",
       "    <tr>\n",
       "      <th>5</th>\n",
       "      <td>Q6</td>\n",
       "      <td>1.944544</td>\n",
       "      <td>topdown</td>\n",
       "    </tr>\n",
       "    <tr>\n",
       "      <th>6</th>\n",
       "      <td>Q7</td>\n",
       "      <td>0.000000</td>\n",
       "      <td>topdown</td>\n",
       "    </tr>\n",
       "    <tr>\n",
       "      <th>7</th>\n",
       "      <td>Q8</td>\n",
       "      <td>1.944544</td>\n",
       "      <td>topdown</td>\n",
       "    </tr>\n",
       "  </tbody>\n",
       "</table>\n",
       "</div>"
      ],
      "text/plain": [
       "  Questions  Effect_Size Specification\n",
       "0        Q1     3.712311      bottomup\n",
       "1        Q2     3.889087      bottomup\n",
       "2        Q3     1.414214      bottomup\n",
       "3        Q4     2.121320      bottomup\n",
       "4        Q5     3.712311      bottomup\n",
       "5        Q6     1.590990      bottomup\n",
       "6        Q7     1.414214      bottomup\n",
       "7        Q8     0.707107      bottomup\n",
       "0        Q1     4.419417       topdown\n",
       "1        Q2     3.712311       topdown\n",
       "2        Q3     3.005204       topdown\n",
       "3        Q4     0.883883       topdown\n",
       "4        Q5     0.707107       topdown\n",
       "5        Q6     1.944544       topdown\n",
       "6        Q7     0.000000       topdown\n",
       "7        Q8     1.944544       topdown"
      ]
     },
     "execution_count": 33,
     "metadata": {},
     "output_type": "execute_result"
    }
   ],
   "source": [
    "group1_bottomup = [\n",
    "    effect_q1_group1_bottomup,\n",
    "    effect_q2_group1_bottomup,\n",
    "    effect_q3_group1_bottomup,\n",
    "    effect_q4_group1_bottomup,\n",
    "    effect_q5_group1_bottomup,\n",
    "    effect_q6_group1_bottomup,\n",
    "    effect_q7_group1_bottomup,\n",
    "    effect_q8_group1_bottomup,\n",
    "    ]\n",
    "group1_topdown = [\n",
    "    effect_q1_group1_topdown,\n",
    "    effect_q2_group1_topdown,\n",
    "    effect_q3_group1_topdown,\n",
    "    effect_q4_group1_topdown,\n",
    "    effect_q5_group1_topdown,\n",
    "    effect_q6_group1_topdown,\n",
    "    effect_q7_group1_topdown,\n",
    "    effect_q8_group1_topdown,\n",
    "    ]\n",
    "group2_bottomup = [\n",
    "    effect_q1_group2_bottomup,\n",
    "    effect_q2_group2_bottomup,\n",
    "    effect_q3_group2_bottomup,\n",
    "    effect_q4_group2_bottomup,\n",
    "    effect_q5_group2_bottomup,\n",
    "    effect_q6_group2_bottomup,\n",
    "    effect_q7_group2_bottomup,\n",
    "    effect_q8_group2_bottomup,\n",
    "    ]\n",
    "group2_topdown = [\n",
    "    effect_q1_group2_topdown,\n",
    "    effect_q2_group2_topdown,\n",
    "    effect_q3_group2_topdown,\n",
    "    effect_q4_group2_topdown,\n",
    "    effect_q5_group2_topdown,\n",
    "    effect_q6_group2_topdown,\n",
    "    effect_q7_group2_topdown,\n",
    "    effect_q8_group2_topdown,\n",
    "    ]\n",
    "\n",
    "questions = [f\"Q{i}\" for i in range(1, 9)]\n",
    "\n",
    "group1_bottomup_df = pd.DataFrame({\"Questions\": questions, \"Effect_Size\": group1_bottomup, \"Specification\": \"bottomup\"})\n",
    "group1_topdown_df = pd.DataFrame({\"Questions\": questions, \"Effect_Size\": group1_topdown, \"Specification\": \"topdown\"})\n",
    "group1_df = pd.concat([group1_bottomup_df,group1_topdown_df])\n",
    "group1_df[\"Effect_Size\"] = group1_df[\"Effect_Size\"]\n",
    "group1_df"
   ]
  },
  {
   "cell_type": "code",
   "execution_count": 34,
   "id": "a542c1e4-95c9-4e30-ab81-c280c59aaaa0",
   "metadata": {},
   "outputs": [
    {
     "data": {
      "text/html": [
       "<div>\n",
       "<style scoped>\n",
       "    .dataframe tbody tr th:only-of-type {\n",
       "        vertical-align: middle;\n",
       "    }\n",
       "\n",
       "    .dataframe tbody tr th {\n",
       "        vertical-align: top;\n",
       "    }\n",
       "\n",
       "    .dataframe thead th {\n",
       "        text-align: right;\n",
       "    }\n",
       "</style>\n",
       "<table border=\"1\" class=\"dataframe\">\n",
       "  <thead>\n",
       "    <tr style=\"text-align: right;\">\n",
       "      <th></th>\n",
       "      <th>Questions</th>\n",
       "      <th>Effect_Size</th>\n",
       "      <th>Specification</th>\n",
       "    </tr>\n",
       "  </thead>\n",
       "  <tbody>\n",
       "    <tr>\n",
       "      <th>0</th>\n",
       "      <td>Q1</td>\n",
       "      <td>4.772971</td>\n",
       "      <td>bottomup</td>\n",
       "    </tr>\n",
       "    <tr>\n",
       "      <th>1</th>\n",
       "      <td>Q2</td>\n",
       "      <td>1.944544</td>\n",
       "      <td>bottomup</td>\n",
       "    </tr>\n",
       "    <tr>\n",
       "      <th>2</th>\n",
       "      <td>Q3</td>\n",
       "      <td>0.530330</td>\n",
       "      <td>bottomup</td>\n",
       "    </tr>\n",
       "    <tr>\n",
       "      <th>3</th>\n",
       "      <td>Q4</td>\n",
       "      <td>1.414214</td>\n",
       "      <td>bottomup</td>\n",
       "    </tr>\n",
       "    <tr>\n",
       "      <th>4</th>\n",
       "      <td>Q5</td>\n",
       "      <td>1.767767</td>\n",
       "      <td>bottomup</td>\n",
       "    </tr>\n",
       "    <tr>\n",
       "      <th>5</th>\n",
       "      <td>Q6</td>\n",
       "      <td>2.651650</td>\n",
       "      <td>bottomup</td>\n",
       "    </tr>\n",
       "    <tr>\n",
       "      <th>6</th>\n",
       "      <td>Q7</td>\n",
       "      <td>2.474874</td>\n",
       "      <td>bottomup</td>\n",
       "    </tr>\n",
       "    <tr>\n",
       "      <th>7</th>\n",
       "      <td>Q8</td>\n",
       "      <td>0.530330</td>\n",
       "      <td>bottomup</td>\n",
       "    </tr>\n",
       "    <tr>\n",
       "      <th>0</th>\n",
       "      <td>Q1</td>\n",
       "      <td>0.000000</td>\n",
       "      <td>topdown</td>\n",
       "    </tr>\n",
       "    <tr>\n",
       "      <th>1</th>\n",
       "      <td>Q2</td>\n",
       "      <td>0.000000</td>\n",
       "      <td>topdown</td>\n",
       "    </tr>\n",
       "    <tr>\n",
       "      <th>2</th>\n",
       "      <td>Q3</td>\n",
       "      <td>1.767767</td>\n",
       "      <td>topdown</td>\n",
       "    </tr>\n",
       "    <tr>\n",
       "      <th>3</th>\n",
       "      <td>Q4</td>\n",
       "      <td>3.535534</td>\n",
       "      <td>topdown</td>\n",
       "    </tr>\n",
       "    <tr>\n",
       "      <th>4</th>\n",
       "      <td>Q5</td>\n",
       "      <td>0.000000</td>\n",
       "      <td>topdown</td>\n",
       "    </tr>\n",
       "    <tr>\n",
       "      <th>5</th>\n",
       "      <td>Q6</td>\n",
       "      <td>1.060660</td>\n",
       "      <td>topdown</td>\n",
       "    </tr>\n",
       "    <tr>\n",
       "      <th>6</th>\n",
       "      <td>Q7</td>\n",
       "      <td>2.474874</td>\n",
       "      <td>topdown</td>\n",
       "    </tr>\n",
       "    <tr>\n",
       "      <th>7</th>\n",
       "      <td>Q8</td>\n",
       "      <td>6.187184</td>\n",
       "      <td>topdown</td>\n",
       "    </tr>\n",
       "  </tbody>\n",
       "</table>\n",
       "</div>"
      ],
      "text/plain": [
       "  Questions  Effect_Size Specification\n",
       "0        Q1     4.772971      bottomup\n",
       "1        Q2     1.944544      bottomup\n",
       "2        Q3     0.530330      bottomup\n",
       "3        Q4     1.414214      bottomup\n",
       "4        Q5     1.767767      bottomup\n",
       "5        Q6     2.651650      bottomup\n",
       "6        Q7     2.474874      bottomup\n",
       "7        Q8     0.530330      bottomup\n",
       "0        Q1     0.000000       topdown\n",
       "1        Q2     0.000000       topdown\n",
       "2        Q3     1.767767       topdown\n",
       "3        Q4     3.535534       topdown\n",
       "4        Q5     0.000000       topdown\n",
       "5        Q6     1.060660       topdown\n",
       "6        Q7     2.474874       topdown\n",
       "7        Q8     6.187184       topdown"
      ]
     },
     "execution_count": 34,
     "metadata": {},
     "output_type": "execute_result"
    }
   ],
   "source": [
    "group2_bottomup_df = pd.DataFrame({\"Questions\": questions, \"Effect_Size\": group2_bottomup, \"Specification\": \"bottomup\"})\n",
    "group2_topdown_df = pd.DataFrame({\"Questions\": questions, \"Effect_Size\": group2_topdown, \"Specification\": \"topdown\"})\n",
    "group2_df = pd.concat([group2_bottomup_df,group2_topdown_df])\n",
    "group2_df[\"Effect_Size\"] = group2_df[\"Effect_Size\"]\n",
    "group2_df"
   ]
  },
  {
   "cell_type": "code",
   "execution_count": 35,
   "id": "c1ebcde9-162d-4276-90db-03289d67f184",
   "metadata": {},
   "outputs": [
    {
     "data": {
      "text/html": [
       "<div>\n",
       "<style scoped>\n",
       "    .dataframe tbody tr th:only-of-type {\n",
       "        vertical-align: middle;\n",
       "    }\n",
       "\n",
       "    .dataframe tbody tr th {\n",
       "        vertical-align: top;\n",
       "    }\n",
       "\n",
       "    .dataframe thead th {\n",
       "        text-align: right;\n",
       "    }\n",
       "</style>\n",
       "<table border=\"1\" class=\"dataframe\">\n",
       "  <thead>\n",
       "    <tr style=\"text-align: right;\">\n",
       "      <th></th>\n",
       "      <th>Questions</th>\n",
       "      <th>Effect_Size</th>\n",
       "      <th>Specification</th>\n",
       "    </tr>\n",
       "  </thead>\n",
       "  <tbody>\n",
       "    <tr>\n",
       "      <th>0</th>\n",
       "      <td>Q1</td>\n",
       "      <td>1.000000</td>\n",
       "      <td>bottomup</td>\n",
       "    </tr>\n",
       "    <tr>\n",
       "      <th>1</th>\n",
       "      <td>Q2</td>\n",
       "      <td>0.687500</td>\n",
       "      <td>bottomup</td>\n",
       "    </tr>\n",
       "    <tr>\n",
       "      <th>2</th>\n",
       "      <td>Q3</td>\n",
       "      <td>0.229167</td>\n",
       "      <td>bottomup</td>\n",
       "    </tr>\n",
       "    <tr>\n",
       "      <th>3</th>\n",
       "      <td>Q4</td>\n",
       "      <td>0.416667</td>\n",
       "      <td>bottomup</td>\n",
       "    </tr>\n",
       "    <tr>\n",
       "      <th>4</th>\n",
       "      <td>Q5</td>\n",
       "      <td>0.645833</td>\n",
       "      <td>bottomup</td>\n",
       "    </tr>\n",
       "    <tr>\n",
       "      <th>5</th>\n",
       "      <td>Q6</td>\n",
       "      <td>0.500000</td>\n",
       "      <td>bottomup</td>\n",
       "    </tr>\n",
       "    <tr>\n",
       "      <th>6</th>\n",
       "      <td>Q7</td>\n",
       "      <td>0.458333</td>\n",
       "      <td>bottomup</td>\n",
       "    </tr>\n",
       "    <tr>\n",
       "      <th>7</th>\n",
       "      <td>Q8</td>\n",
       "      <td>0.145833</td>\n",
       "      <td>bottomup</td>\n",
       "    </tr>\n",
       "    <tr>\n",
       "      <th>0</th>\n",
       "      <td>Q1</td>\n",
       "      <td>0.520833</td>\n",
       "      <td>topdown</td>\n",
       "    </tr>\n",
       "    <tr>\n",
       "      <th>1</th>\n",
       "      <td>Q2</td>\n",
       "      <td>0.437500</td>\n",
       "      <td>topdown</td>\n",
       "    </tr>\n",
       "    <tr>\n",
       "      <th>2</th>\n",
       "      <td>Q3</td>\n",
       "      <td>0.562500</td>\n",
       "      <td>topdown</td>\n",
       "    </tr>\n",
       "    <tr>\n",
       "      <th>3</th>\n",
       "      <td>Q4</td>\n",
       "      <td>0.520833</td>\n",
       "      <td>topdown</td>\n",
       "    </tr>\n",
       "    <tr>\n",
       "      <th>4</th>\n",
       "      <td>Q5</td>\n",
       "      <td>0.083333</td>\n",
       "      <td>topdown</td>\n",
       "    </tr>\n",
       "    <tr>\n",
       "      <th>5</th>\n",
       "      <td>Q6</td>\n",
       "      <td>0.354167</td>\n",
       "      <td>topdown</td>\n",
       "    </tr>\n",
       "    <tr>\n",
       "      <th>6</th>\n",
       "      <td>Q7</td>\n",
       "      <td>0.291667</td>\n",
       "      <td>topdown</td>\n",
       "    </tr>\n",
       "    <tr>\n",
       "      <th>7</th>\n",
       "      <td>Q8</td>\n",
       "      <td>0.958333</td>\n",
       "      <td>topdown</td>\n",
       "    </tr>\n",
       "  </tbody>\n",
       "</table>\n",
       "</div>"
      ],
      "text/plain": [
       "  Questions  Effect_Size Specification\n",
       "0        Q1     1.000000      bottomup\n",
       "1        Q2     0.687500      bottomup\n",
       "2        Q3     0.229167      bottomup\n",
       "3        Q4     0.416667      bottomup\n",
       "4        Q5     0.645833      bottomup\n",
       "5        Q6     0.500000      bottomup\n",
       "6        Q7     0.458333      bottomup\n",
       "7        Q8     0.145833      bottomup\n",
       "0        Q1     0.520833       topdown\n",
       "1        Q2     0.437500       topdown\n",
       "2        Q3     0.562500       topdown\n",
       "3        Q4     0.520833       topdown\n",
       "4        Q5     0.083333       topdown\n",
       "5        Q6     0.354167       topdown\n",
       "6        Q7     0.291667       topdown\n",
       "7        Q8     0.958333       topdown"
      ]
     },
     "execution_count": 35,
     "metadata": {},
     "output_type": "execute_result"
    }
   ],
   "source": [
    "total_df = group1_df\n",
    "total_df[\"Effect_Size\"] = group1_df[\"Effect_Size\"]+group2_df[\"Effect_Size\"]\n",
    "total_df[\"Effect_Size\"] /= total_df[\"Effect_Size\"].abs().max()\n",
    "total_df"
   ]
  },
  {
   "cell_type": "code",
   "execution_count": 36,
   "id": "0cba7a74",
   "metadata": {},
   "outputs": [
    {
     "data": {
      "image/png": "[encoded data removed]",
      "text/plain": [
       "<Figure size 640x480 with 1 Axes>"
      ]
     },
     "metadata": {},
     "output_type": "display_data"
    }
   ],
   "source": [
    "plt.axhline(y=0.3, linestyle='--', color=\"black\")\n",
    "plt.axhline(y=0.5, linestyle='--', color=\"black\")\n",
    "plt.text(x=-0.3, y=0.25, s=\"small effect\", fontsize=\"small\")\n",
    "plt.text(x=-0.3, y=0.45, s=\"moderate effect\", fontsize=\"small\")\n",
    "plt.text(x=-0.3, y=0.55, s=\"large effect\", fontsize=\"small\")\n",
    "p = sns.scatterplot(data=total_df, x=\"Questions\", y=\"Effect_Size\", hue=\"Specification\")\n",
    "sns.move_legend(p, \"upper left\", bbox_to_anchor=(1, 1))"
   ]
  }
 ],
 "metadata": {
  "kernelspec": {
   "display_name": "Python 3 (ipykernel)",
   "language": "python",
   "name": "python3"
  },
  "language_info": {
   "codemirror_mode": {
    "name": "ipython",
    "version": 3
   },
   "file_extension": ".py",
   "mimetype": "text/x-python",
   "name": "python",
   "nbconvert_exporter": "python",
   "pygments_lexer": "ipython3",
   "version": "3.10.12"
  }
 },
 "nbformat": 4,
 "nbformat_minor": 5
}
